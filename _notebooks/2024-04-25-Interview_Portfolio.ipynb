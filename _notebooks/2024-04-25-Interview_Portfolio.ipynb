{
 "cells": [
  {
   "cell_type": "markdown",
   "metadata": {},
   "source": [
    "---\n",
    "toc: true\n",
    "comments: True\n",
    "layout: post\n",
    "title: Code Portfolio\n",
    "description:  \n",
    "type: tangibles\n",
    "courses: { compsci: {week: 37} }\n",
    "---"
   ]
  },
  {
   "cell_type": "markdown",
   "metadata": {},
   "source": [
    "<h1>Interview Portfolio</h1>"
   ]
  },
  {
   "cell_type": "markdown",
   "metadata": {},
   "source": [
    "<h3>Link CSP Code Blog of the 2023-24 Year</h3>\n",
    "\n",
    "Throughout the school year, I've spent time and effort building my blog. This blog features all my major projects that I've worked on throughout the school year. Moreover, they feature school lessons and teacher codes that have helped me throughout the course and for AP Prep.\n",
    "\n",
    "<a href=\"https://srivaidyas.github.io/student2.0/AD_compsci.html\">Link to my blog</a>"
   ]
  }
 ],
 "metadata": {
  "kernelspec": {
   "display_name": "Python 3",
   "language": "python",
   "name": "python3"
  },
  "language_info": {
   "codemirror_mode": {
    "name": "ipython",
    "version": 3
   },
   "file_extension": ".py",
   "mimetype": "text/x-python",
   "name": "python",
   "nbconvert_exporter": "python",
   "pygments_lexer": "ipython3",
   "version": "3.11.6"
  },
  "orig_nbformat": 4
 },
 "nbformat": 4,
 "nbformat_minor": 2
}
