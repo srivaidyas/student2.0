{
 "cells": [
  {
   "cell_type": "markdown",
   "metadata": {},
   "source": [
    "---\n",
    "toc: true\n",
    "comments: True\n",
    "layout: post\n",
    "title: Code Portfolio\n",
    "description:  \n",
    "type: tangibles\n",
    "courses: { compsci: {week: 37} }\n",
    "---"
   ]
  },
  {
   "cell_type": "markdown",
   "metadata": {},
   "source": [
    "<h1>Interview Portfolio</h1>"
   ]
  },
  {
   "cell_type": "markdown",
   "metadata": {},
   "source": [
    "<h3>1. Link CSP Code Blog of the 2023-24 Year</h3>\n",
    "\n",
    "Throughout the school year, I've spent time and effort building my blog. This blog features all my major projects that I've worked on throughout the school year. Moreover, they feature school lessons and teacher codes that have helped me throughout the course and for AP Prep.\n",
    "\n",
    "<a href=\"https://srivaidyas.github.io/student2.0/AD_compsci.html\">Link to my blog</a>"
   ]
  },
  {
   "cell_type": "markdown",
   "metadata": {},
   "source": [
    "<h3>2. Link to my github repository</h3>\n",
    "\n",
    "This repository contains all my major code files to all the major projects featured in the blog above. Moreover, it also contains links to other repostiories in which i have worked throughout the school year.\n",
    "\n",
    "<a href=\"https://github.com/srivaidyas/student2.0\">Link to my github site</a>"
   ]
  },
  {
   "cell_type": "markdown",
   "metadata": {},
   "source": [
    "<h3>3. Links to my most efficient personal projects</h3>\n",
    "\n",
    "- The first project below is one of my personal favorites. It is an API movie and series search box wherein the suer can input the movie name and search for it across the API database which the TMBD site provides for free. This heaven of knowldge and my personal liking towards movies is what prompted me to make this project. The porject showcases my experices in the frontend field.\n",
    "\n",
    "<a href=\"https://srivaidyas.github.io/student2.0//2023/09/04/Movie_Search_Box.html\">Link to my deployed site</a><br>\n",
    "<a href=\"https://github.com/srivaidyas/student2.0/blob/main/_posts/2023-09-04-Movie_Search_Box.md\">Link to github code</a>\n",
    "\n",
    "- This second project is the project that I worked on for my binary project during the second trimester. The project, named Binary Blackjack is a blackjack game that uses HTML and JS code in order to play the game blackjack on the computer against a program. This program also showcases my experices in the frontend field.\n",
    "\n",
    "<a href=\"https://srivaidyas.github.io/student2.0//2024/02/14/Mathnonply-Final.html\">Link to my deployed site</a><br>\n",
    "<a href=\"https://github.com/srivaidyas/student2.0/blob/main/_posts/2024-02-14-Mathnonply%20Final.md?plain=1\">Link to github code</a>\n",
    "\n",
    "- This third project is the one i worked on for my college board CPT submission. The project features a tic tac toe game wherein the user plays tic tac toe with a computer program that tires to resist all effort from teh user to win. Futhermore, this code also uses a backend database as one of its functions which shows my gradual tranformation from a soley frontend developer into a fronted depended on the backend kind of developer as the real field requires the intergration of both fields for an effective product.\n",
    "\n",
    "<a href=\"https://srivaidyas.github.io/student2.0//2024/04/26/Tick_Tac_Toe_Hard.html\">Link to my deployed site</a><br>\n",
    "<a href=\"https://github.com/srivaidyas/student2.0/blob/main/_posts/2024-02-14-Tick_Tack_Toe_Hard.md?plain=1\">Link to github code</a>\n",
    "\n",
    "- This fourth and last of my favortie projects is an encrypter and decrypter project that I had worked on for the Night At th Museum my school conducts every trimester. This code features an encryption and decruption algorithm that as the name suggests encryptes and decryptes data that is sent to the backend. This project however is heavily heavily backend dependent, this hows how thorughout my coding journey I have transitioned from a compeletely frontend developer to a frontend dependent on backend developer.\n",
    "\n",
    "<a href=\"https://srivaidyas.github.io/student2.0//2024/05/27/Encryption.html\">Link to my deployed site</a><br>\n",
    "<a href=\"https://github.com/srivaidyas/student2.0/blob/main/_posts/2024-05-27-Encryption.md?plain=1\">Link to github code</a>"
   ]
  },
  {
   "cell_type": "markdown",
   "metadata": {},
   "source": [
    "<h3>4. Link to my resume</h3>\n",
    "\n",
    "This is my resume that I  have developed with features all my skills and talents that I have gathered throughout my life.\n",
    "\n",
    "<a href=\"https://drive.google.com/file/d/1TA75yhLB6J-9Q6LIF9hoyKzdhK9PYRLL/view?usp=sharing\">Link to my resume</a>"
   ]
  }
 ],
 "metadata": {
  "kernelspec": {
   "display_name": "Python 3",
   "language": "python",
   "name": "python3"
  },
  "language_info": {
   "codemirror_mode": {
    "name": "ipython",
    "version": 3
   },
   "file_extension": ".py",
   "mimetype": "text/x-python",
   "name": "python",
   "nbconvert_exporter": "python",
   "pygments_lexer": "ipython3",
   "version": "3.11.6"
  },
  "orig_nbformat": 4
 },
 "nbformat": 4,
 "nbformat_minor": 2
}
