{
 "cells": [
  {
   "cell_type": "markdown",
   "metadata": {},
   "source": [
    "---\n",
    "toc: true\n",
    "comments: True\n",
    "layout: post\n",
    "title: CPT Write Up   \n",
    "description:  \n",
    "type: tangibles\n",
    "courses: { compsci: {week: 30} }\n",
    "---"
   ]
  },
  {
   "cell_type": "markdown",
   "metadata": {},
   "source": [
    "<h1>CPT Project: Face ID Login/ Game Dashboard</h1>"
   ]
  },
  {
   "cell_type": "markdown",
   "metadata": {},
   "source": [
    "**Introduction to Project**\n",
    "\n",
    "- Facial Login System: The facial login system of this CPT project takes a picture of the person infron of the screen, runs it though a database which has exisiting face id pictures of users, and comapres the picture to let the user login if the comparion made is successful. Moreover, by using a facial id login system we aimed to create was done in order to create a safer login system that is more secure. The inclusion of this sophisticated facial login system demonstrates our dedication to enhancing user security and safeguarding their sensitive information from potential threats.\n",
    "\n",
    "- Game Dashboard: The game dashboard is inclsuive was various different games amongst what the user can play. Tic tac toe, crosswords, mathnopoly and a casio are few of the many games that we coded in our CPT project. Moreover, by adding many games the user has the opportunity to choose between the games and play what they wish to play at that moment of time. The game dashboard has been made to in order to make the differnt games organised, and in a way that the user can easily access the games accroding to the name and type etc\n",
    "\n",
    "- Game Leaderboard: Another feature of the game dashboard as the game leaderboard that we crearted. This leaderboard was done to make the user submit their points to a backend database that is then displayed in the form of a leaderboard that the users can access accroding tot heir username and the numebr of points that they have submitted. This was done to make the games more accesible to many players who use the game dashboard."
   ]
  },
  {
   "cell_type": "markdown",
   "metadata": {},
   "source": [
    "<h2>Collections</h2>"
   ]
  },
  {
   "cell_type": "markdown",
   "metadata": {},
   "source": [
    "**Targets:**<br>\n",
    "\n",
    "Blog Python Model code and SQLite Database. From VSCode using SQLite3 Editor, show your unique collection/table in database, display rows and columns in the table of the SQLite database. From VSCode model, show your unique code that was created to initialize table and create test data. the screenshots below show how the above requirements have been implements in my project feature which was mainly the leaderboard that we together in my CPT group worked on."
   ]
  },
  {
   "cell_type": "markdown",
   "metadata": {},
   "source": [
    "<center><img src=\"https://raw.githubusercontent.com/srivaidyas/student2.0/4e445f5a3dc90a04d201ceebedcde0a5d826c7e9/images/Screenshot%202024-04-18%20at%202.14.51%E2%80%AFPM.png\"></center><br>"
   ]
  },
  {
   "cell_type": "markdown",
   "metadata": {},
   "source": [
    "<center><img src=\"https://raw.githubusercontent.com/srivaidyas/student2.0/4e445f5a3dc90a04d201ceebedcde0a5d826c7e9/images/Screenshot%202024-04-18%20at%202.15.00%E2%80%AFPM.png\"></center><br>"
   ]
  },
  {
   "cell_type": "markdown",
   "metadata": {},
   "source": [
    "The first image show sthe leadboard being intialized in the backend as an squlite database. The second image shows the code that was used to intiialize the backend databse. the code deatils the different coloumns that were created and the names of the coloumns accordingly. Moreover, the last image futher shows the code that was used to create the databse, it shows how accordingly to the user data being fetch the database updates the points accrodingly."
   ]
  },
  {
   "cell_type": "markdown",
   "metadata": {},
   "source": [
    "<h2>Lists and Dictionaries\n",
    "</h2>"
   ]
  },
  {
   "cell_type": "markdown",
   "metadata": {},
   "source": [
    "**Targets:**<br><br>\n",
    "Blog Python API code and use of List and Dictionaries. In VSCode using Debugger, show a list as extracted from database as Python objects.In VSCode use Debugger and list, show two distinct example examples of dictionaries, show Keys/Values using debugger."
   ]
  },
  {
   "cell_type": "markdown",
   "metadata": {},
   "source": [
    "<center><img src=\"https://raw.githubusercontent.com/srivaidyas/student2.0/4e445f5a3dc90a04d201ceebedcde0a5d826c7e9/images/Screenshot%202024-04-18%20at%202.15.18%E2%80%AFPM.png\"></center><br>"
   ]
  },
  {
   "cell_type": "markdown",
   "metadata": {},
   "source": [
    "The three pictres above were run in debugger mode to extract the dat from the backend database owing an error. The first image shows how in VScode when debugger mode was used, the data form the backend database was extrracted and displayed. Unforntuently this does not produce the second requirment as detailed. However, it is visible tha tthe userid and the number of poitns are clearly enxtracted by the backend when run in debugger mode in VScode."
   ]
  },
  {
   "cell_type": "markdown",
   "metadata": {},
   "source": [
    "<h2>APIs and JSON\n",
    "</h2>"
   ]
  },
  {
   "cell_type": "markdown",
   "metadata": {},
   "source": [
    "**Targets:**\n",
    "\n",
    "Blog Python API code and use of Postman to request and respond with JSON. In VSCode, show Python API code definition for request and response using GET, POST, UPDATE methods. Discuss algorithmic condition used to direct request to appropriate Python method based on request method.In VSCode, show algorithmic conditions used to validate data on a POST condition. In Postman, show URL request and Body requirements for GET, POST, and UPDATE methods. In Postman, show the JSON response data for 200 success conditions on GET, POST, and UPDATE methods.In Postman, show the JSON response for error for 400 when missing body on a POST request.In Postman, show the JSON response for error for 404 when providing an unknown user ID to a UPDATE request.\n"
   ]
  },
  {
   "cell_type": "markdown",
   "metadata": {},
   "source": [
    "<center><img src=\"https://raw.githubusercontent.com/srivaidyas/student2.0/4e445f5a3dc90a04d201ceebedcde0a5d826c7e9/images/Screenshot%202024-04-18%20at%202.15.11%E2%80%AFPM.png\"></center><br>"
   ]
  },
  {
   "cell_type": "markdown",
   "metadata": {},
   "source": [
    "<center><img src=\"https://raw.githubusercontent.com/srivaidyas/student2.0/4e445f5a3dc90a04d201ceebedcde0a5d826c7e9/images/Screenshot%202024-04-18%20at%202.15.25%E2%80%AFPM.png\"></center><br>"
   ]
  },
  {
   "cell_type": "markdown",
   "metadata": {},
   "source": [
    "The codsnippets above show the frist two requirments. The code is the API code that shows the resquest and respones of the data and how its managed. The snippet also shows the CRUD operations which include the Get, Post, and update methods. The algorithmic conditions used to direct request to apporprtate Python method based on request methods is shown in the in shown-when data is posted its run though the code to check and update the datatable according to the user and where the user is located on the databse table. It also has erro mesxsages that either indicate whether the points were updated or not in the databse backend."
   ]
  },
  {
   "cell_type": "markdown",
   "metadata": {},
   "source": [
    "<h2>Postman</h2>"
   ]
  },
  {
   "cell_type": "markdown",
   "metadata": {},
   "source": [
    "<h3>200</h3><br>\n",
    "Postman on 200 which is success conditions on GET, POST, and UPDATE methods."
   ]
  },
  {
   "cell_type": "markdown",
   "metadata": {},
   "source": [
    "<center><img src=\"https://raw.githubusercontent.com/srivaidyas/student2.0/4e445f5a3dc90a04d201ceebedcde0a5d826c7e9/images/Screenshot%202024-04-18%20at%202.15.34%E2%80%AFPM.png\"></center><br>"
   ]
  },
  {
   "cell_type": "markdown",
   "metadata": {},
   "source": [
    "<h3>400</h3><br>\n",
    "Postman on 400 which shows the error when missing body on a POST request. The data sent below is misisng the game poitns which leads to a 400 and a bad request"
   ]
  },
  {
   "cell_type": "markdown",
   "metadata": {},
   "source": [
    "<center><img src=\"https://raw.githubusercontent.com/srivaidyas/student2.0/4e445f5a3dc90a04d201ceebedcde0a5d826c7e9/images/Screenshot%202024-04-18%20at%202.15.56%E2%80%AFPM.png\"></center><br>"
   ]
  },
  {
   "cell_type": "markdown",
   "metadata": {},
   "source": [
    "<h3>405</h3><br>\n",
    "Postman on a put method. As the picture shows below the put request is a 405 denied error.\n"
   ]
  },
  {
   "cell_type": "markdown",
   "metadata": {},
   "source": [
    "<center><img src=\"https://raw.githubusercontent.com/srivaidyas/student2.0/de44bf3d769cb743674c6a1e0504ca36cdfc1a42/images/Screenshot%202024-04-18%20at%202.46.22%E2%80%AFPM.png\"></center><br>"
   ]
  },
  {
   "cell_type": "markdown",
   "metadata": {},
   "source": [
    "<h2>Frontend</h2>"
   ]
  },
  {
   "cell_type": "markdown",
   "metadata": {},
   "source": [
    "**Targets:**<br>\n",
    "\n",
    "Blog JavaScript API fetch code and formatting code to display JSON.\n",
    "In Chrome inspect, show response of JSON objects from fetch of GET, POST, and UPDATE methods.\n",
    "In the Chrome browser, show a demo (GET) of obtaining an Array of JSON objects that are formatted into the browsers screen.\n",
    "In JavaScript code, describe fetch and method that obtained the Array of JSON objects.\n",
    "In JavaScript code, show code that performs iteration and formatting of data into HTML.\n",
    "In the Chrome browser, show a demo (POST or UPDATE) gathering and sending input and receiving a response that show update. Repeat this demo showing both success and failure.\n",
    "In JavaScript code, show and describe code that handles success. Describe how code shows success to the user in the Chrome Browser screen.\n",
    "In JavaScript code, show and describe code that handles failure. Describe how the code shows failure to the user in the Chrome Browser screen."
   ]
  },
  {
   "cell_type": "markdown",
   "metadata": {},
   "source": [
    "<center><img src=\"https://raw.githubusercontent.com/srivaidyas/student2.0/main/images/Screenshot%202024-04-18%20at%203.05.55%E2%80%AFPM.png\"></center><br>"
   ]
  },
  {
   "cell_type": "markdown",
   "metadata": {},
   "source": [
    "<center><img src=\"https://raw.githubusercontent.com/srivaidyas/student2.0/4e445f5a3dc90a04d201ceebedcde0a5d826c7e9/images/Screenshot%202024-04-18%20at%202.16.25%E2%80%AFPM.png\"></center><br>"
   ]
  },
  {
   "cell_type": "markdown",
   "metadata": {},
   "source": [
    "<center><img src=\"https://raw.githubusercontent.com/srivaidyas/student2.0/4e445f5a3dc90a04d201ceebedcde0a5d826c7e9/images/Screenshot%202024-04-18%20at%202.16.05%E2%80%AFPM.png\"></center><br>"
   ]
  },
  {
   "cell_type": "markdown",
   "metadata": {},
   "source": [
    "<center><img src=\"https://raw.githubusercontent.com/srivaidyas/student2.0/1aa946f66c638e2ba88ee3ee7f57285056973b88/images/Screenshot%202024-04-18%20at%203.09.48%E2%80%AFPM.png\"></center><br>"
   ]
  },
  {
   "cell_type": "markdown",
   "metadata": {},
   "source": [
    "The pictures show the js code formatting into HTMl. In chorome inspect the result of a post or get request is shown. A catch error is also displayed."
   ]
  }
 ],
 "metadata": {
  "kernelspec": {
   "display_name": "Python 3",
   "language": "python",
   "name": "python3"
  },
  "language_info": {
   "codemirror_mode": {
    "name": "ipython",
    "version": 3
   },
   "file_extension": ".py",
   "mimetype": "text/x-python",
   "name": "python",
   "nbconvert_exporter": "python",
   "pygments_lexer": "ipython3",
   "version": "3.11.6"
  },
  "orig_nbformat": 4
 },
 "nbformat": 4,
 "nbformat_minor": 2
}
