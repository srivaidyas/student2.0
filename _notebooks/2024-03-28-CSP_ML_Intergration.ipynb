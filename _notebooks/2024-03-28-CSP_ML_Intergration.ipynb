{
 "cells": [
  {
   "cell_type": "markdown",
   "metadata": {},
   "source": [
    "---\n",
    "toc: true\n",
    "comments: True\n",
    "layout: post\n",
    "title: ML Assessment    \n",
    "description:  \n",
    "type: tangibles\n",
    "courses: { compsci: {week: 28} }\n",
    "---"
   ]
  },
  {
   "cell_type": "markdown",
   "metadata": {},
   "source": [
    "<h1> ML Assessment</h1>"
   ]
  },
  {
   "cell_type": "markdown",
   "metadata": {},
   "source": [
    "1. Frontend\n",
    "<br>\n",
    "<img src=\"https://raw.githubusercontent.com/srivaidyas/student2.0/main/images/Screenshot%202024-03-28%20at%201.47.03%E2%80%AFPM.png\" height=\"600\" width=\"800\">"
   ]
  },
  {
   "cell_type": "markdown",
   "metadata": {},
   "source": [
    "2. Input values\n",
    "<br>\n",
    "<img src=\"https://raw.githubusercontent.com/srivaidyas/student2.0/main/images/Screenshot%202024-03-28%20at%201.47.28%E2%80%AFPM.png\" height=\"600\" width=\"800\">"
   ]
  },
  {
   "cell_type": "markdown",
   "metadata": {},
   "source": [
    "3. Acccepted Ouput\n",
    "<br>\n",
    "<img src=\"https://raw.githubusercontent.com/srivaidyas/student2.0/main/images/Screenshot%202024-03-28%20at%201.47.40%E2%80%AFPM.png\" height=\"600\" width=\"800\">"
   ]
  },
  {
   "cell_type": "markdown",
   "metadata": {},
   "source": [
    "4. Waitlisted Output\n",
    "<br>\n",
    "<img src=\"https://raw.githubusercontent.com/srivaidyas/student2.0/main/images/Screenshot%202024-03-28%20at%201.49.06%E2%80%AFPM.png\" height=\"600\" width=\"800\">"
   ]
  },
  {
   "cell_type": "markdown",
   "metadata": {},
   "source": [
    "5. Rejected Output\n",
    "<br>\n",
    "<img src=\"https://raw.githubusercontent.com/srivaidyas/student2.0/main/images/Screenshot%202024-03-28%20at%201.49.31%E2%80%AFPM.png\" height=\"600\" width=\"800\">"
   ]
  },
  {
   "cell_type": "markdown",
   "metadata": {},
   "source": [
    "<h4>Backend Code</h4>"
   ]
  },
  {
   "cell_type": "code",
   "execution_count": null,
   "metadata": {
    "vscode": {
     "languageId": "plaintext"
    }
   },
   "outputs": [],
   "source": [
    "import pandas as pd\n",
    "from sklearn.linear_model import LogisticRegression\n",
    "import joblib\n",
    "class datamodel:\n",
    "    \n",
    "    def __init__(self):\n",
    "        self.model = joblib.load(\"College_prediction.pkl\")\n",
    "    def readfile(self):\n",
    "        self.data=pd.read_csv(\"student_admission_dataset.csv\")\n",
    "        print(self.data.head())\n",
    "    def preprocessing(self):\n",
    "        self.X=self.data[['GPA','SAT_Score','Extracurricular_Activities']]\n",
    "        self.Y=self.data['Admission_Status']\n",
    "    def train(self):\n",
    "        self.model=LogisticRegression()\n",
    "        self.model.fit(self.X,self.Y)\n",
    "    def predict(self, GPA, SAT_SCORE, EXTRACIRICULAR):\n",
    "        return self.model.predict([[GPA, SAT_SCORE, EXTRACIRICULAR]])[0]\n",
    "    \n",
    "    def exportmodel(self):\n",
    "        joblib.dump(self.model,\"College_prediction.pkl\")\n",
    "    \n",
    "    \n",
    "    \n",
    "    \n",
    "Model=datamodel()\n",
    "print(Model.predict(4.0,1600,8))"
   ]
  },
  {
   "cell_type": "markdown",
   "metadata": {},
   "source": [
    "<h4>API Route Code</h4>"
   ]
  },
  {
   "cell_type": "code",
   "execution_count": null,
   "metadata": {
    "vscode": {
     "languageId": "plaintext"
    }
   },
   "outputs": [],
   "source": [
    "    class Prediction(Resource):\n",
    "        def post(self):\n",
    "            try:\n",
    "                body = request.get_json()\n",
    "                # Convert input data to numeric format\n",
    "                gpa = float(body.get('gpa'))\n",
    "                SAT = int(body.get('SAT'))\n",
    "                Extracurricular_Activities = int(body.get('Extracurricular_Activities'))\n",
    "                Model = datamodel()\n",
    "                prediction_result = Model.predict(gpa, SAT, Extracurricular_Activities)\n",
    "                return jsonify(prediction_result)\n",
    "            except Exception as e:\n",
    "                print(\"Prediction error:\", str(e))  # Log the error\n",
    "                return {\n",
    "                    \"message\": \"Something went wrong during prediction!\",\n",
    "                    \"error\": str(e),\n",
    "                    \"data\": None\n",
    "                }, 500"
   ]
  },
  {
   "cell_type": "markdown",
   "metadata": {},
   "source": [
    "<h4>Frontend Code</h4>"
   ]
  },
  {
   "cell_type": "code",
   "execution_count": null,
   "metadata": {
    "vscode": {
     "languageId": "plaintext"
    }
   },
   "outputs": [],
   "source": [
    "<html>\n",
    "<head>\n",
    "    <style>\n",
    "        body {\n",
    "            font-family: 'Poppins', sans-serif;\n",
    "            background-color: #f4f4f4;\n",
    "            color: #333;\n",
    "            line-height: 1.6;\n",
    "        }\n",
    "        h1 {\n",
    "            text-align: center;\n",
    "            font-size: 48px;\n",
    "            margin-bottom: 30px;\n",
    "            color: #2c3e50;\n",
    "            animation: bounce 1s infinite alternate;\n",
    "        }\n",
    "        @keyframes bounce {\n",
    "            0% {\n",
    "                transform: translateY(0);\n",
    "            }\n",
    "            100% {\n",
    "                transform: translateY(-30px);\n",
    "            }\n",
    "        }\n",
    "        p#predictionResult {\n",
    "            text-align: center;\n",
    "            font-size: 50px;\n",
    "            margin-top: 20px;\n",
    "        }\n",
    "        .container {\n",
    "            width: 50%;\n",
    "            margin: 0 auto;\n",
    "        }\n",
    "        .input-box {\n",
    "            display: inline-block;\n",
    "            margin-bottom: 20px;\n",
    "            text-align: center;\n",
    "        }\n",
    "        .input-box label {\n",
    "            display: block;\n",
    "            margin-bottom: 5px;\n",
    "            font-size: 18px;\n",
    "            color: #2c3e50;\n",
    "        }\n",
    "        .input-box input {\n",
    "            width: 250px;\n",
    "            padding: 10px;\n",
    "            border: 2px solid #3498db;\n",
    "            border-radius: 10px;\n",
    "            font-size: 16px;\n",
    "            transition: border-color 0.3s;\n",
    "        }\n",
    "        .input-box input:focus {\n",
    "            outline: none;\n",
    "            border-color: #2980b9;\n",
    "        }\n",
    "        .btn {\n",
    "            display: inline-block;\n",
    "            background-color: #27ae60;\n",
    "            color: #fff;\n",
    "            padding: 10px 20px;\n",
    "            border: none;\n",
    "            border-radius: 5px;\n",
    "            cursor: pointer;\n",
    "            font-size: 16px;\n",
    "            transition: background-color 0.3s;\n",
    "        }\n",
    "        .btn:hover {\n",
    "            background-color: #219652;\n",
    "        }\n",
    "        .confetti {\n",
    "            width: 10px;\n",
    "            height: 10px;\n",
    "            position: absolute;\n",
    "            top: 0;\n",
    "            animation: confetti-fall linear 4s infinite;\n",
    "        }\n",
    "        @keyframes confetti-fall {\n",
    "            0% {\n",
    "                transform: translateY(-100vh) rotateZ(0deg);\n",
    "            }\n",
    "            100% {\n",
    "                transform: translateY(100vh) rotateZ(360deg);\n",
    "            }\n",
    "        }\n",
    "    </style>\n",
    "</head>\n",
    "<body>\n",
    "<center>\n",
    "<h1>Admission Predictor for MIT</h1>\n",
    "<p id=\"predictionResult\"></p>\n",
    "<div class=\"container\">\n",
    "<div class=\"input-box\">\n",
    "<label for=\"sat\">SAT Score:</label><br>\n",
    "<input type=\"number\" id=\"sat\" name=\"sat\" placeholder=\"SAT score\">\n",
    "</div>\n",
    "<div class=\"input-box\">\n",
    "<label for=\"gpa\">GPA:</label><br>\n",
    "<input type=\"number\" step=\"0.01\" id=\"gpa\" name=\"gpa\" placeholder=\"GPA\">\n",
    "</div>\n",
    "<div class=\"input-box\">\n",
    "<label for=\"extracurriculars\">Extracurriculars:</label><br>\n",
    "<input type=\"number\" id=\"Extracurricular_Activities\" name=\"Extracurricular_Activities\" placeholder=\"Extracurriculars\">\n",
    "</div>\n",
    "<br>\n",
    "<button class=\"btn\" id=\"checkCompatibility\">Check</button>\n",
    "</div>\n",
    "</center>\n",
    "<script>\n",
    "function makePrediction() {\n",
    "    var gpa = document.getElementById(\"gpa\").value;\n",
    "    var sat = document.getElementById(\"sat\").value;\n",
    "    var extracurriculars = document.getElementById(\"Extracurricular_Activities\").value;\n",
    "    if (sat > 1600) {\n",
    "        alert(\"SAT score cannot exceed 1600\");\n",
    "        return;\n",
    "    }\n",
    "    if (gpa > 5) {\n",
    "        alert(\"GPA cannot exceed 5\");\n",
    "        return;\n",
    "    }\n",
    "    var data = {\n",
    "        gpa: gpa,\n",
    "        SAT: sat,\n",
    "        Extracurricular_Activities: extracurriculars\n",
    "    };\n",
    "    fetch('http://127.0.0.1:8086/api/users/Prediction', {\n",
    "        method: 'POST',\n",
    "        headers: {\n",
    "            'Content-Type': 'application/json'\n",
    "        },\n",
    "        body: JSON.stringify(data)\n",
    "    })\n",
    "    .then(response => {\n",
    "        if (!response.ok) {\n",
    "            throw new Error('Network response was not ok');\n",
    "        }\n",
    "        return response.json();\n",
    "    })\n",
    "    .then(result => {\n",
    "        var predictionResultElement = document.getElementById(\"predictionResult\");\n",
    "        if (result === \"Accepted\") {\n",
    "            predictionResultElement.style.color = \"green\";\n",
    "            createConfetti();\n",
    "        } else if (result === \"Waitlisted\") {\n",
    "            predictionResultElement.style.color = \"yellow\";\n",
    "        } else if (result === \"Rejected\") {\n",
    "            predictionResultElement.style.color = \"red\";\n",
    "        }\n",
    "        predictionResultElement.textContent = result;\n",
    "        alert(\"Prediction successful: \" + result); \n",
    "    })\n",
    "    .catch(error => {\n",
    "        console.error('Error:', error);\n",
    "        alert(\"Prediction request failed: \" + error.message); \n",
    "    });\n",
    "}\n",
    "function createConfetti() {\n",
    "    for (var i = 0; i < 100; i++) {\n",
    "        var confetti = document.createElement('div');\n",
    "        confetti.className = 'confetti';\n",
    "        confetti.style.left = Math.random() * window.innerWidth + 'px';\n",
    "        confetti.style.animationDelay = Math.random() * 4 + 's';\n",
    "        confetti.style.backgroundColor = getRandomColor();\n",
    "        document.body.appendChild(confetti);\n",
    "    }\n",
    "}\n",
    "function getRandomColor() {\n",
    "    var letters = '0123456789ABCDEF';\n",
    "    var color = '#';\n",
    "    for (var i = 0; i < 6; i++) {\n",
    "        color += letters[Math.floor(Math.random() * 16)];\n",
    "    }\n",
    "    return color;\n",
    "}\n",
    "document.getElementById(\"checkCompatibility\").addEventListener(\"click\", makePrediction);\n",
    "</script>\n",
    "</body>\n",
    "</html>"
   ]
  },
  {
   "cell_type": "markdown",
   "metadata": {},
   "source": [
    "<h4>Summary and Learnings</h4>"
   ]
  },
  {
   "cell_type": "markdown",
   "metadata": {},
   "source": [
    "OVerall this project was really fun to do. The goal of this project was to create a predictor that predicts if or not a student can get accepted into MIT based on their stats. A dataset with data from student previously accepted into this university was used and frankly the it seems to predict most results accurately. the model can be imporved however by adding more data based on teh GPA and SAT of accepted students which can provide results that are more accurate accroding to the stats that were input."
   ]
  }
 ],
 "metadata": {
  "kernelspec": {
   "display_name": "Python 3",
   "language": "python",
   "name": "python3"
  },
  "language_info": {
   "codemirror_mode": {
    "name": "ipython",
    "version": 3
   },
   "file_extension": ".py",
   "mimetype": "text/x-python",
   "name": "python",
   "nbconvert_exporter": "python",
   "pygments_lexer": "ipython3",
   "version": "3.11.6"
  },
  "orig_nbformat": 4
 },
 "nbformat": 4,
 "nbformat_minor": 2
}
