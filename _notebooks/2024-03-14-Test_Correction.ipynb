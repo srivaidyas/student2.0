{
 "cells": [
  {
   "cell_type": "markdown",
   "metadata": {},
   "source": [
    "---\n",
    "toc: true\n",
    "comments: True\n",
    "layout: post\n",
    "title: MCQ 3 Test Correction\n",
    "description:  \n",
    "type: tangibles\n",
    "courses: { compsci: {week: 26} }\n",
    "---"
   ]
  },
  {
   "cell_type": "markdown",
   "metadata": {},
   "source": [
    "<h3>Test Corrections</h3>"
   ]
  },
  {
   "cell_type": "markdown",
   "metadata": {},
   "source": [
    "Test 3 MCQ: Imporvemnet from MC 1 however a dip in score from the second MC, harder questions, and lesser time can be attributed to the lower score."
   ]
  },
  {
   "cell_type": "markdown",
   "metadata": {},
   "source": [
    "<center><img src=\"https://raw.githubusercontent.com/srivaidyas/student2.0/main/images/Screenshot%202024-03-14%20at%202.38.20%E2%80%AFPM.png\" height=\"600\" width=\"850\"></center>"
   ]
  },
  {
   "cell_type": "code",
   "execution_count": null,
   "metadata": {
    "vscode": {
     "languageId": "plaintext"
    }
   },
   "outputs": [],
   "source": [
    "Question 23: About the internet"
   ]
  },
  {
   "cell_type": "markdown",
   "metadata": {},
   "source": [
    "<center><img src=\"https://raw.githubusercontent.com/srivaidyas/student2.0/main/images/Screenshot%202024-03-14%20at%202.40.13%E2%80%AFPM.png\" height=\"600\" width=\"850\"></center>"
   ]
  },
  {
   "cell_type": "markdown",
   "metadata": {},
   "source": [
    "The Internet was designed to be scalable, using open protocols to easily connect additional computing devices to the network. Therefore not all commnication protocols require to use encyrption protocols. This option makes the most sense to the question.Internet was intentionally designed to be adaptable to growth and to facilitate easy connectivity through the use of openly available protocols."
   ]
  },
  {
   "cell_type": "code",
   "execution_count": null,
   "metadata": {
    "vscode": {
     "languageId": "plaintext"
    }
   },
   "outputs": [],
   "source": [
    "Question 34"
   ]
  },
  {
   "cell_type": "markdown",
   "metadata": {},
   "source": [
    "<center><img src=\"https://raw.githubusercontent.com/srivaidyas/student2.0/main/images/Screenshot%202024-03-14%20at%202.40.00%E2%80%AFPM.png\" height=\"600\" width=\"850\"></center>"
   ]
  },
  {
   "cell_type": "markdown",
   "metadata": {},
   "source": [
    "By using an ELSE statement to handle the case where the condition is not met, the code ensures that xCount and yCount are used appropriately to achieve the desired distribution, addressing the issue of incorrect trial counts.<br>\n",
    "College board: An incorrect trial count occurs because there are two calls to RANDOM for each iteration of the loop instead of one. By replacing line 9 with an ELSE statement, the code segment will increment xCount approximately 25% of the time and will increment yCount otherwise."
   ]
  },
  {
   "cell_type": "code",
   "execution_count": null,
   "metadata": {
    "vscode": {
     "languageId": "plaintext"
    }
   },
   "outputs": [],
   "source": [
    "Question 38"
   ]
  },
  {
   "cell_type": "markdown",
   "metadata": {},
   "source": [
    "<center><img src=\"https://raw.githubusercontent.com/srivaidyas/student2.0/main/images/Screenshot%202024-03-14%20at%202.39.52%E2%80%AFPM.png\" height=\"600\" width=\"850\"></center>"
   ]
  },
  {
   "cell_type": "markdown",
   "metadata": {},
   "source": [
    "While simulations excel in many scenarios where real-world experiments are impractical, they may not be suitable for situations requiring continuous real-world data. Thus is conclusion simulations are most useful when real-world events are impractical. A simulation is unlikely to be appropriate if continuous real-world data is needed."
   ]
  },
  {
   "cell_type": "code",
   "execution_count": null,
   "metadata": {
    "vscode": {
     "languageId": "plaintext"
    }
   },
   "outputs": [],
   "source": [
    "Question 44"
   ]
  },
  {
   "cell_type": "markdown",
   "metadata": {},
   "source": [
    "<center><img src=\"https://raw.githubusercontent.com/srivaidyas/student2.0/main/images/Screenshot%202024-03-14%20at%202.39.49%E2%80%AFPM.png\" height=\"600\" width=\"850\"></center>"
   ]
  },
  {
   "cell_type": "markdown",
   "metadata": {},
   "source": [
    "the fixed number of bits allocated to represent real numbers in the program gives constraints on the range and precision of these values. Therefore, round-off errors may occur during math operations, leading to incorrect values or results.<br>\n",
    "College board: The fixed number of bits used to represent real numbers limits the range of these values; this limitation can result in round-off errors. Round-off errors typically result in imprecise values or results."
   ]
  },
  {
   "cell_type": "code",
   "execution_count": null,
   "metadata": {
    "vscode": {
     "languageId": "plaintext"
    }
   },
   "outputs": [],
   "source": [
    "Question 53"
   ]
  },
  {
   "cell_type": "markdown",
   "metadata": {},
   "source": [
    "<center><img src=\"https://raw.githubusercontent.com/srivaidyas/student2.0/main/images/Screenshot%202024-03-14%20at%202.39.45%E2%80%AFPM.png\" height=\"600\" width=\"850\"></center>"
   ]
  },
  {
   "cell_type": "markdown",
   "metadata": {},
   "source": [
    "Step 4 iterates through each step to check if the correct value is matched with the correct target value whereas step 5 iterates through the whole algorithm. Step 4 checks every element of the list, incrementing count each time target appears. Step 5 prints true if and only if count appears multiple times in the list."
   ]
  },
  {
   "cell_type": "code",
   "execution_count": null,
   "metadata": {
    "vscode": {
     "languageId": "plaintext"
    }
   },
   "outputs": [],
   "source": [
    "Question 55"
   ]
  },
  {
   "cell_type": "markdown",
   "metadata": {},
   "source": [
    "<center><img src=\"https://raw.githubusercontent.com/srivaidyas/student2.0/main/images/Screenshot%202024-03-14%20at%202.39.41%E2%80%AFPM.png\" height=\"600\" width=\"850\"></center>"
   ]
  },
  {
   "cell_type": "markdown",
   "metadata": {},
   "source": [
    "In simple words this code segment takes the last value of the last element and then removes the said last element form the list and puts it up into the first segment. IE This code snippet does the following: it saves the last element of a list temporarily, removes it from the list, and then adds it back to the beginning."
   ]
  },
  {
   "cell_type": "code",
   "execution_count": null,
   "metadata": {
    "vscode": {
     "languageId": "plaintext"
    }
   },
   "outputs": [],
   "source": [
    "Question 57"
   ]
  },
  {
   "cell_type": "markdown",
   "metadata": {},
   "source": [
    "<center><img src=\"https://raw.githubusercontent.com/srivaidyas/student2.0/main/images/Screenshot%202024-03-14%20at%202.39.36%E2%80%AFPM.png\" height=\"600\" width=\"850\"></center>"
   ]
  },
  {
   "cell_type": "markdown",
   "metadata": {},
   "source": [
    "When two processors work at the same time, it's best if they share the workload as equally as possible. If we run processes P and Q on one processor, they'll take a total of 40 seconds. Similarly, if we run processes R and S on the other processor, they'll take 35 seconds. When both processors work together simultaneously, all four operations can be completed within 40 seconds."
   ]
  },
  {
   "cell_type": "code",
   "execution_count": null,
   "metadata": {
    "vscode": {
     "languageId": "plaintext"
    }
   },
   "outputs": [],
   "source": [
    "Question 61"
   ]
  },
  {
   "cell_type": "markdown",
   "metadata": {},
   "source": [
    "<center><img src=\"https://raw.githubusercontent.com/srivaidyas/student2.0/main/images/Screenshot%202024-03-14%20at%202.39.33%E2%80%AFPM.png\" height=\"600\" width=\"850\"></center>"
   ]
  },
  {
   "cell_type": "markdown",
   "metadata": {},
   "source": [
    "The application is designed to notify a user whenever another nearby user with compatible settings begins a running session. This feature enables users to track the activity of strangers, raising concerns about privacy. Users may feel uneasy about the potential for their location to be shared with unknown individuals, therfore --- the need for careful consideration of privacy implications in the application's design."
   ]
  },
  {
   "cell_type": "code",
   "execution_count": null,
   "metadata": {
    "vscode": {
     "languageId": "plaintext"
    }
   },
   "outputs": [],
   "source": [
    "Question 62"
   ]
  },
  {
   "cell_type": "markdown",
   "metadata": {},
   "source": [
    "<center><img src=\"https://raw.githubusercontent.com/srivaidyas/student2.0/main/images/Screenshot%202024-03-14%20at%202.39.28%E2%80%AFPM.png\" height=\"600\" width=\"850\"></center>"
   ]
  },
  {
   "cell_type": "markdown",
   "metadata": {},
   "source": [
    "Inccorect deduction<br>\n",
    "The correct answer is that users with premium tend to not recieve advertisments (ran out of time)"
   ]
  },
  {
   "cell_type": "code",
   "execution_count": null,
   "metadata": {
    "vscode": {
     "languageId": "plaintext"
    }
   },
   "outputs": [],
   "source": [
    "Question 63"
   ]
  },
  {
   "cell_type": "markdown",
   "metadata": {},
   "source": [
    "<center><img src=\"https://raw.githubusercontent.com/srivaidyas/student2.0/main/images/Screenshot%202024-03-14%20at%202.39.23%E2%80%AFPM.png\" height=\"600\" width=\"850\"></center>"
   ]
  },
  {
   "cell_type": "markdown",
   "metadata": {},
   "source": [
    "Asnwer B is the correct answer when the hot air humid evaluates to true then the if stament is excuted. Therefore since hot air humid is set to humid it is set to ture<br>\n",
    "\n",
    "Answer C: As \"hot OR humid\" evaluates to true, the IF statement's body is executed. Given that \"hot\" is also true, the output will display true.<br>\n",
    "\n",
    "College board explanations: <br>\n",
    "\n",
    "Answer B\n",
    "Correct. Since NOT humid evaluates to true, the body of the IF statement is executed. Since hot OR humid evaluates to true, true is displayed.<br>\n",
    "\n",
    "Answer C\n",
    "Correct. Since hot OR humid evaluates to true, the body of the IF statement is executed. Since hot is true, true is displayed.<br>"
   ]
  },
  {
   "cell_type": "code",
   "execution_count": null,
   "metadata": {
    "vscode": {
     "languageId": "plaintext"
    }
   },
   "outputs": [],
   "source": [
    "Question 66"
   ]
  },
  {
   "cell_type": "markdown",
   "metadata": {},
   "source": [
    "<center><img src=\"https://raw.githubusercontent.com/srivaidyas/student2.0/main/images/Screenshot%202024-03-14%20at%202.39.15%E2%80%AFPM.png\" height=\"600\" width=\"850\"></center>"
   ]
  },
  {
   "cell_type": "markdown",
   "metadata": {},
   "source": [
    "Answer A: In this snippet, by default, 500 bonus points are assigned. If the timer is less than 30, no additional bonus points are added. If the timer falls between 30 and 60, inclusive, an extra 500 bonus points are added. If the timer exceeds 60, the bonus is incremented by 500 twice (once in each IF block). This ensures that the correct number of bonus points is assigned to the bonus variable for all possible timer values.\n",
    "<br>\n",
    "Answer D: In this code snippet, different bonus values are assigned based on the value of the timer. If the timer exceeds 60, the bonus is set to 1500 in the first IF block. For timers between 30 and 60 (inclusive), the bonus is set to 1000 in the second IF block. If the timer is less than 30, the bonus is set to 500 in the third IF block. This ensures that the correct bonus points are assigned to the variable \"bonus\" for all possible timer values.\n",
    "<br><br><br>\n",
    "Collegeboard answer:\n",
    "<br>\n",
    "\n",
    "Answer A\n",
    "Correct. This code segment assigns 500 bonus points by default. If timer is less than 30, no additional bonus points are added. If timer is between 30 and 60 inclusive, bonus is incremented by 500 in the first IF block. If timer is greater than 60, bonus is incremented by 500 twice (once in each IF block). The correct number of bonus points is assigned to bonus for all possible values of timer.<br>\n",
    "\n",
    "Answer D\n",
    "Correct. In this code segment, if timer is greater than 60, bonus is assigned 1500 in the first IF block. If timer is between 30 and 60, inclusive, bonus is assigned 1000 in the second IF block. If timer is less than 30, bonus is assigned 500 in the third IF block. The correct number of bonus points is assigned to bonus for all possible values of timer.\n"
   ]
  },
  {
   "cell_type": "code",
   "execution_count": null,
   "metadata": {
    "vscode": {
     "languageId": "plaintext"
    }
   },
   "outputs": [],
   "source": [
    "Question 70"
   ]
  },
  {
   "cell_type": "markdown",
   "metadata": {},
   "source": [
    "<center><img src=\"https://raw.githubusercontent.com/srivaidyas/student2.0/main/images/Screenshot%202024-03-14%20at%202.38.59%E2%80%AFPM.png\" height=\"600\" width=\"850\"></center>"
   ]
  },
  {
   "cell_type": "markdown",
   "metadata": {},
   "source": [
    "Answer A: In this code segment, the characters to the left of position n are assigned to the variable \"left\", while the characters to the right of position n are assigned to the variable \"right\". Subsequently, \"left\" and \"right\" are concatenated, and the result is assigned to \"newStr\". For instance, if \"oldStr\" is \"best\" and n is 3, the code will assign \"be\" to \"left\", \"t\" to \"right\", and \"bet\" to \"newStr\". This process effectively splits the string at position n and combines the two parts.\n",
    "<br>\n",
    "Answer C: In this code segment, the characters to the left of position n are assigned to the variable \"newStr\". Then, \"newStr\" is concatenated with the substring consisting of the characters to the right of position n. For instance, if \"oldStr\" is \"best\" and n is 3, the code will first assign \"be\" to \"newStr\", and then concatenate \"be\" with the substring \"t\", resulting in \"bet\" being assigned to \"newStr\". This process effectively splits the string at position n and combines the two parts.\n",
    "<br><br><br>\n",
    "College Board:\n",
    "<br>\n",
    "Answer A\n",
    "Correct. This code segment assigns the characters to the left of position n to the variable left and the characters to the right of position n to the variable right. It then concatenates left and right and assigns the result to newStr. For example, if oldStr is \"best\" and n is 3, the code segment assigns \"be\" to left, \"t\" to right, and \"bet\" to newStr.<br>\n",
    "Answer C\n",
    "Correct. This code segment assigns the characters to the left of position n to newStr. The code segment then concatenates newStr with the substring consisting of the characters to the right of position n. For example, if oldStr is \"best\" and n is 3, the code segment assigns \"be\" to newStr, then concatenates \"be\" and the substring \"t\" and assigns the result \"bet\" to newStr.\n"
   ]
  }
 ],
 "metadata": {
  "kernelspec": {
   "display_name": "Python 3",
   "language": "python",
   "name": "python3"
  },
  "language_info": {
   "codemirror_mode": {
    "name": "ipython",
    "version": 3
   },
   "file_extension": ".py",
   "mimetype": "text/x-python",
   "name": "python",
   "nbconvert_exporter": "python",
   "pygments_lexer": "ipython3",
   "version": "3.11.6"
  },
  "orig_nbformat": 4
 },
 "nbformat": 4,
 "nbformat_minor": 2
}
